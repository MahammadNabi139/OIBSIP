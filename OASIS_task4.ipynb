{
  "cells": [
    {
      "cell_type": "markdown",
      "metadata": {
        "id": "view-in-github",
        "colab_type": "text"
      },
      "source": [
        "<a href=\"https://colab.research.google.com/github/MahammadNabi139/OIBSIP/blob/main/OASIS_task4.ipynb\" target=\"_parent\"><img src=\"https://colab.research.google.com/assets/colab-badge.svg\" alt=\"Open In Colab\"/></a>"
      ]
    },
    {
      "cell_type": "markdown",
      "source": [
        "Sumitted by DUDEKULA MAHAMMAD NABI"
      ],
      "metadata": {
        "id": "YDMKLCTm9C_1"
      },
      "id": "YDMKLCTm9C_1"
    },
    {
      "cell_type": "code",
      "execution_count": null,
      "id": "694f416d",
      "metadata": {
        "_cell_guid": "b1076dfc-b9ad-4769-8c92-a6c4dae69d19",
        "_uuid": "8f2839f25d086af736a60e9eeb907d3b93b6e0e5",
        "execution": {
          "iopub.execute_input": "2023-03-04T05:05:33.253447Z",
          "iopub.status.busy": "2023-03-04T05:05:33.252518Z",
          "iopub.status.idle": "2023-03-04T05:05:33.270137Z",
          "shell.execute_reply": "2023-03-04T05:05:33.268930Z"
        },
        "papermill": {
          "duration": 0.027425,
          "end_time": "2023-03-04T05:05:33.272792",
          "exception": false,
          "start_time": "2023-03-04T05:05:33.245367",
          "status": "completed"
        },
        "tags": [],
        "id": "694f416d"
      },
      "outputs": [],
      "source": [
        "\n",
        "\n",
        "import numpy as np # linear algebra\n",
        "import pandas as pd # data processing, CSV file I/O (e.g. pd.read_csv)"
      ]
    },
    {
      "cell_type": "code",
      "execution_count": null,
      "id": "19b9f580",
      "metadata": {
        "execution": {
          "iopub.execute_input": "2023-03-04T05:05:33.282643Z",
          "iopub.status.busy": "2023-03-04T05:05:33.281920Z",
          "iopub.status.idle": "2023-03-04T05:05:33.324796Z",
          "shell.execute_reply": "2023-03-04T05:05:33.323609Z"
        },
        "papermill": {
          "duration": 0.050352,
          "end_time": "2023-03-04T05:05:33.327325",
          "exception": false,
          "start_time": "2023-03-04T05:05:33.276973",
          "status": "completed"
        },
        "tags": [],
        "colab": {
          "base_uri": "https://localhost:8080/",
          "height": 206
        },
        "id": "19b9f580",
        "outputId": "5b9eef5c-bb00-489c-cb62-c983e779acd0"
      },
      "outputs": [
        {
          "output_type": "execute_result",
          "data": {
            "text/plain": [
              "     v1                                                 v2\n",
              "0   ham  Go until jurong point, crazy.. Available only ...\n",
              "1   ham                      Ok lar... Joking wif u oni...\n",
              "2  spam  Free entry in 2 a wkly comp to win FA Cup fina...\n",
              "3   ham  U dun say so early hor... U c already then say...\n",
              "4   ham  Nah I don't think he goes to usf, he lives aro..."
            ],
            "text/html": [
              "\n",
              "  <div id=\"df-beda9af7-8dff-403f-8919-0a203b113c28\">\n",
              "    <div class=\"colab-df-container\">\n",
              "      <div>\n",
              "<style scoped>\n",
              "    .dataframe tbody tr th:only-of-type {\n",
              "        vertical-align: middle;\n",
              "    }\n",
              "\n",
              "    .dataframe tbody tr th {\n",
              "        vertical-align: top;\n",
              "    }\n",
              "\n",
              "    .dataframe thead th {\n",
              "        text-align: right;\n",
              "    }\n",
              "</style>\n",
              "<table border=\"1\" class=\"dataframe\">\n",
              "  <thead>\n",
              "    <tr style=\"text-align: right;\">\n",
              "      <th></th>\n",
              "      <th>v1</th>\n",
              "      <th>v2</th>\n",
              "    </tr>\n",
              "  </thead>\n",
              "  <tbody>\n",
              "    <tr>\n",
              "      <th>0</th>\n",
              "      <td>ham</td>\n",
              "      <td>Go until jurong point, crazy.. Available only ...</td>\n",
              "    </tr>\n",
              "    <tr>\n",
              "      <th>1</th>\n",
              "      <td>ham</td>\n",
              "      <td>Ok lar... Joking wif u oni...</td>\n",
              "    </tr>\n",
              "    <tr>\n",
              "      <th>2</th>\n",
              "      <td>spam</td>\n",
              "      <td>Free entry in 2 a wkly comp to win FA Cup fina...</td>\n",
              "    </tr>\n",
              "    <tr>\n",
              "      <th>3</th>\n",
              "      <td>ham</td>\n",
              "      <td>U dun say so early hor... U c already then say...</td>\n",
              "    </tr>\n",
              "    <tr>\n",
              "      <th>4</th>\n",
              "      <td>ham</td>\n",
              "      <td>Nah I don't think he goes to usf, he lives aro...</td>\n",
              "    </tr>\n",
              "  </tbody>\n",
              "</table>\n",
              "</div>\n",
              "      <button class=\"colab-df-convert\" onclick=\"convertToInteractive('df-beda9af7-8dff-403f-8919-0a203b113c28')\"\n",
              "              title=\"Convert this dataframe to an interactive table.\"\n",
              "              style=\"display:none;\">\n",
              "        \n",
              "  <svg xmlns=\"http://www.w3.org/2000/svg\" height=\"24px\"viewBox=\"0 0 24 24\"\n",
              "       width=\"24px\">\n",
              "    <path d=\"M0 0h24v24H0V0z\" fill=\"none\"/>\n",
              "    <path d=\"M18.56 5.44l.94 2.06.94-2.06 2.06-.94-2.06-.94-.94-2.06-.94 2.06-2.06.94zm-11 1L8.5 8.5l.94-2.06 2.06-.94-2.06-.94L8.5 2.5l-.94 2.06-2.06.94zm10 10l.94 2.06.94-2.06 2.06-.94-2.06-.94-.94-2.06-.94 2.06-2.06.94z\"/><path d=\"M17.41 7.96l-1.37-1.37c-.4-.4-.92-.59-1.43-.59-.52 0-1.04.2-1.43.59L10.3 9.45l-7.72 7.72c-.78.78-.78 2.05 0 2.83L4 21.41c.39.39.9.59 1.41.59.51 0 1.02-.2 1.41-.59l7.78-7.78 2.81-2.81c.8-.78.8-2.07 0-2.86zM5.41 20L4 18.59l7.72-7.72 1.47 1.35L5.41 20z\"/>\n",
              "  </svg>\n",
              "      </button>\n",
              "      \n",
              "  <style>\n",
              "    .colab-df-container {\n",
              "      display:flex;\n",
              "      flex-wrap:wrap;\n",
              "      gap: 12px;\n",
              "    }\n",
              "\n",
              "    .colab-df-convert {\n",
              "      background-color: #E8F0FE;\n",
              "      border: none;\n",
              "      border-radius: 50%;\n",
              "      cursor: pointer;\n",
              "      display: none;\n",
              "      fill: #1967D2;\n",
              "      height: 32px;\n",
              "      padding: 0 0 0 0;\n",
              "      width: 32px;\n",
              "    }\n",
              "\n",
              "    .colab-df-convert:hover {\n",
              "      background-color: #E2EBFA;\n",
              "      box-shadow: 0px 1px 2px rgba(60, 64, 67, 0.3), 0px 1px 3px 1px rgba(60, 64, 67, 0.15);\n",
              "      fill: #174EA6;\n",
              "    }\n",
              "\n",
              "    [theme=dark] .colab-df-convert {\n",
              "      background-color: #3B4455;\n",
              "      fill: #D2E3FC;\n",
              "    }\n",
              "\n",
              "    [theme=dark] .colab-df-convert:hover {\n",
              "      background-color: #434B5C;\n",
              "      box-shadow: 0px 1px 3px 1px rgba(0, 0, 0, 0.15);\n",
              "      filter: drop-shadow(0px 1px 2px rgba(0, 0, 0, 0.3));\n",
              "      fill: #FFFFFF;\n",
              "    }\n",
              "  </style>\n",
              "\n",
              "      <script>\n",
              "        const buttonEl =\n",
              "          document.querySelector('#df-beda9af7-8dff-403f-8919-0a203b113c28 button.colab-df-convert');\n",
              "        buttonEl.style.display =\n",
              "          google.colab.kernel.accessAllowed ? 'block' : 'none';\n",
              "\n",
              "        async function convertToInteractive(key) {\n",
              "          const element = document.querySelector('#df-beda9af7-8dff-403f-8919-0a203b113c28');\n",
              "          const dataTable =\n",
              "            await google.colab.kernel.invokeFunction('convertToInteractive',\n",
              "                                                     [key], {});\n",
              "          if (!dataTable) return;\n",
              "\n",
              "          const docLinkHtml = 'Like what you see? Visit the ' +\n",
              "            '<a target=\"_blank\" href=https://colab.research.google.com/notebooks/data_table.ipynb>data table notebook</a>'\n",
              "            + ' to learn more about interactive tables.';\n",
              "          element.innerHTML = '';\n",
              "          dataTable['output_type'] = 'display_data';\n",
              "          await google.colab.output.renderOutput(dataTable, element);\n",
              "          const docLink = document.createElement('div');\n",
              "          docLink.innerHTML = docLinkHtml;\n",
              "          element.appendChild(docLink);\n",
              "        }\n",
              "      </script>\n",
              "    </div>\n",
              "  </div>\n",
              "  "
            ]
          },
          "metadata": {},
          "execution_count": 3
        }
      ],
      "source": [
        "dataset = pd.read_csv('/content/spam.csv', encoding='latin-1', usecols = ['v1', 'v2'])\n",
        "dataset.head()"
      ]
    },
    {
      "cell_type": "code",
      "execution_count": null,
      "id": "dbd1569c",
      "metadata": {
        "execution": {
          "iopub.execute_input": "2023-03-04T05:05:33.337957Z",
          "iopub.status.busy": "2023-03-04T05:05:33.336929Z",
          "iopub.status.idle": "2023-03-04T05:05:34.574282Z",
          "shell.execute_reply": "2023-03-04T05:05:34.573161Z"
        },
        "papermill": {
          "duration": 1.244842,
          "end_time": "2023-03-04T05:05:34.576454",
          "exception": false,
          "start_time": "2023-03-04T05:05:33.331612",
          "status": "completed"
        },
        "tags": [],
        "colab": {
          "base_uri": "https://localhost:8080/",
          "height": 299
        },
        "id": "dbd1569c",
        "outputId": "04157fb8-a0a8-422c-b613-4f8db432605c"
      },
      "outputs": [
        {
          "output_type": "display_data",
          "data": {
            "text/plain": [
              "<Figure size 432x288 with 1 Axes>"
            ],
            "image/png": "[encoded data removed]"
          },
          "metadata": {
            "needs_background": "light"
          }
        }
      ],
      "source": [
        "import seaborn as sns\n",
        "import matplotlib.pyplot as plt\n",
        "num_of_spam_ham = dataset['v1'].value_counts()\n",
        "num_of_spam_ham.plot(kind='bar')\n",
        "plt.title('Rate of spam vs ham')\n",
        "plt.ylabel('Count')\n",
        "plt.show()"
      ]
    },
    {
      "cell_type": "code",
      "execution_count": null,
      "id": "354187f5",
      "metadata": {
        "execution": {
          "iopub.execute_input": "2023-03-04T05:05:34.586153Z",
          "iopub.status.busy": "2023-03-04T05:05:34.585610Z",
          "iopub.status.idle": "2023-03-04T05:05:34.597675Z",
          "shell.execute_reply": "2023-03-04T05:05:34.596570Z"
        },
        "papermill": {
          "duration": 0.019603,
          "end_time": "2023-03-04T05:05:34.600153",
          "exception": false,
          "start_time": "2023-03-04T05:05:34.580550",
          "status": "completed"
        },
        "tags": [],
        "colab": {
          "base_uri": "https://localhost:8080/",
          "height": 206
        },
        "id": "354187f5",
        "outputId": "e953447b-d97f-42e0-8826-5597b062f457"
      },
      "outputs": [
        {
          "output_type": "execute_result",
          "data": {
            "text/plain": [
              "   v1                                                 v2\n",
              "0   1  Go until jurong point, crazy.. Available only ...\n",
              "1   1                      Ok lar... Joking wif u oni...\n",
              "2   0  Free entry in 2 a wkly comp to win FA Cup fina...\n",
              "3   1  U dun say so early hor... U c already then say...\n",
              "4   1  Nah I don't think he goes to usf, he lives aro..."
            ],
            "text/html": [
              "\n",
              "  <div id=\"df-a6cd3aed-18d1-4be6-82d1-e388b8d54617\">\n",
              "    <div class=\"colab-df-container\">\n",
              "      <div>\n",
              "<style scoped>\n",
              "    .dataframe tbody tr th:only-of-type {\n",
              "        vertical-align: middle;\n",
              "    }\n",
              "\n",
              "    .dataframe tbody tr th {\n",
              "        vertical-align: top;\n",
              "    }\n",
              "\n",
              "    .dataframe thead th {\n",
              "        text-align: right;\n",
              "    }\n",
              "</style>\n",
              "<table border=\"1\" class=\"dataframe\">\n",
              "  <thead>\n",
              "    <tr style=\"text-align: right;\">\n",
              "      <th></th>\n",
              "      <th>v1</th>\n",
              "      <th>v2</th>\n",
              "    </tr>\n",
              "  </thead>\n",
              "  <tbody>\n",
              "    <tr>\n",
              "      <th>0</th>\n",
              "      <td>1</td>\n",
              "      <td>Go until jurong point, crazy.. Available only ...</td>\n",
              "    </tr>\n",
              "    <tr>\n",
              "      <th>1</th>\n",
              "      <td>1</td>\n",
              "      <td>Ok lar... Joking wif u oni...</td>\n",
              "    </tr>\n",
              "    <tr>\n",
              "      <th>2</th>\n",
              "      <td>0</td>\n",
              "      <td>Free entry in 2 a wkly comp to win FA Cup fina...</td>\n",
              "    </tr>\n",
              "    <tr>\n",
              "      <th>3</th>\n",
              "      <td>1</td>\n",
              "      <td>U dun say so early hor... U c already then say...</td>\n",
              "    </tr>\n",
              "    <tr>\n",
              "      <th>4</th>\n",
              "      <td>1</td>\n",
              "      <td>Nah I don't think he goes to usf, he lives aro...</td>\n",
              "    </tr>\n",
              "  </tbody>\n",
              "</table>\n",
              "</div>\n",
              "      <button class=\"colab-df-convert\" onclick=\"convertToInteractive('df-a6cd3aed-18d1-4be6-82d1-e388b8d54617')\"\n",
              "              title=\"Convert this dataframe to an interactive table.\"\n",
              "              style=\"display:none;\">\n",
              "        \n",
              "  <svg xmlns=\"http://www.w3.org/2000/svg\" height=\"24px\"viewBox=\"0 0 24 24\"\n",
              "       width=\"24px\">\n",
              "    <path d=\"M0 0h24v24H0V0z\" fill=\"none\"/>\n",
              "    <path d=\"M18.56 5.44l.94 2.06.94-2.06 2.06-.94-2.06-.94-.94-2.06-.94 2.06-2.06.94zm-11 1L8.5 8.5l.94-2.06 2.06-.94-2.06-.94L8.5 2.5l-.94 2.06-2.06.94zm10 10l.94 2.06.94-2.06 2.06-.94-2.06-.94-.94-2.06-.94 2.06-2.06.94z\"/><path d=\"M17.41 7.96l-1.37-1.37c-.4-.4-.92-.59-1.43-.59-.52 0-1.04.2-1.43.59L10.3 9.45l-7.72 7.72c-.78.78-.78 2.05 0 2.83L4 21.41c.39.39.9.59 1.41.59.51 0 1.02-.2 1.41-.59l7.78-7.78 2.81-2.81c.8-.78.8-2.07 0-2.86zM5.41 20L4 18.59l7.72-7.72 1.47 1.35L5.41 20z\"/>\n",
              "  </svg>\n",
              "      </button>\n",
              "      \n",
              "  <style>\n",
              "    .colab-df-container {\n",
              "      display:flex;\n",
              "      flex-wrap:wrap;\n",
              "      gap: 12px;\n",
              "    }\n",
              "\n",
              "    .colab-df-convert {\n",
              "      background-color: #E8F0FE;\n",
              "      border: none;\n",
              "      border-radius: 50%;\n",
              "      cursor: pointer;\n",
              "      display: none;\n",
              "      fill: #1967D2;\n",
              "      height: 32px;\n",
              "      padding: 0 0 0 0;\n",
              "      width: 32px;\n",
              "    }\n",
              "\n",
              "    .colab-df-convert:hover {\n",
              "      background-color: #E2EBFA;\n",
              "      box-shadow: 0px 1px 2px rgba(60, 64, 67, 0.3), 0px 1px 3px 1px rgba(60, 64, 67, 0.15);\n",
              "      fill: #174EA6;\n",
              "    }\n",
              "\n",
              "    [theme=dark] .colab-df-convert {\n",
              "      background-color: #3B4455;\n",
              "      fill: #D2E3FC;\n",
              "    }\n",
              "\n",
              "    [theme=dark] .colab-df-convert:hover {\n",
              "      background-color: #434B5C;\n",
              "      box-shadow: 0px 1px 3px 1px rgba(0, 0, 0, 0.15);\n",
              "      filter: drop-shadow(0px 1px 2px rgba(0, 0, 0, 0.3));\n",
              "      fill: #FFFFFF;\n",
              "    }\n",
              "  </style>\n",
              "\n",
              "      <script>\n",
              "        const buttonEl =\n",
              "          document.querySelector('#df-a6cd3aed-18d1-4be6-82d1-e388b8d54617 button.colab-df-convert');\n",
              "        buttonEl.style.display =\n",
              "          google.colab.kernel.accessAllowed ? 'block' : 'none';\n",
              "\n",
              "        async function convertToInteractive(key) {\n",
              "          const element = document.querySelector('#df-a6cd3aed-18d1-4be6-82d1-e388b8d54617');\n",
              "          const dataTable =\n",
              "            await google.colab.kernel.invokeFunction('convertToInteractive',\n",
              "                                                     [key], {});\n",
              "          if (!dataTable) return;\n",
              "\n",
              "          const docLinkHtml = 'Like what you see? Visit the ' +\n",
              "            '<a target=\"_blank\" href=https://colab.research.google.com/notebooks/data_table.ipynb>data table notebook</a>'\n",
              "            + ' to learn more about interactive tables.';\n",
              "          element.innerHTML = '';\n",
              "          dataTable['output_type'] = 'display_data';\n",
              "          await google.colab.output.renderOutput(dataTable, element);\n",
              "          const docLink = document.createElement('div');\n",
              "          docLink.innerHTML = docLinkHtml;\n",
              "          element.appendChild(docLink);\n",
              "        }\n",
              "      </script>\n",
              "    </div>\n",
              "  </div>\n",
              "  "
            ]
          },
          "metadata": {},
          "execution_count": 5
        }
      ],
      "source": [
        "dataset['v1'].replace({'ham':1,'spam':0}, inplace=True)\n",
        "dataset.head()"
      ]
    },
    {
      "cell_type": "code",
      "execution_count": null,
      "id": "edfe1136",
      "metadata": {
        "execution": {
          "iopub.execute_input": "2023-03-04T05:05:34.609795Z",
          "iopub.status.busy": "2023-03-04T05:05:34.609084Z",
          "iopub.status.idle": "2023-03-04T05:05:35.436785Z",
          "shell.execute_reply": "2023-03-04T05:05:35.435522Z"
        },
        "papermill": {
          "duration": 0.83489,
          "end_time": "2023-03-04T05:05:35.439287",
          "exception": false,
          "start_time": "2023-03-04T05:05:34.604397",
          "status": "completed"
        },
        "tags": [],
        "colab": {
          "base_uri": "https://localhost:8080/"
        },
        "id": "edfe1136",
        "outputId": "a0cf1f33-6890-4eab-ad6c-8ae3b4756c1b"
      },
      "outputs": [
        {
          "output_type": "stream",
          "name": "stderr",
          "text": [
            "[nltk_data] Downloading package stopwords to /root/nltk_data...\n",
            "[nltk_data]   Unzipping corpora/stopwords.zip.\n"
          ]
        }
      ],
      "source": [
        "import nltk\n",
        "import re\n",
        "nltk.download('stopwords')\n",
        "from nltk.corpus import stopwords\n",
        "from nltk.stem.porter import PorterStemmer"
      ]
    },
    {
      "cell_type": "code",
      "execution_count": null,
      "id": "399ffe6e",
      "metadata": {
        "execution": {
          "iopub.execute_input": "2023-03-04T05:05:35.450079Z",
          "iopub.status.busy": "2023-03-04T05:05:35.449745Z",
          "iopub.status.idle": "2023-03-04T05:05:38.299495Z",
          "shell.execute_reply": "2023-03-04T05:05:38.298333Z"
        },
        "papermill": {
          "duration": 2.857964,
          "end_time": "2023-03-04T05:05:38.302080",
          "exception": false,
          "start_time": "2023-03-04T05:05:35.444116",
          "status": "completed"
        },
        "tags": [],
        "id": "399ffe6e"
      },
      "outputs": [],
      "source": [
        "corpus = []\n",
        "for i in range(0,len(dataset)):\n",
        "    text = re.sub('[^a-zA-Z]', ' ', dataset['v2'][i])\n",
        "    text = re.sub('http://\\S+|https://\\S+', ' ', dataset['v2'][i])\n",
        "    text = text.lower()\n",
        "    text = text.split()\n",
        "    ps = PorterStemmer()\n",
        "    all_stopwords = stopwords.words('english')\n",
        "    all_stopwords.remove('not')\n",
        "    text = [ps.stem(word) for word in text if not word in list(all_stopwords)]\n",
        "    text = ' '.join(text)\n",
        "    corpus.append(text)"
      ]
    },
    {
      "cell_type": "code",
      "execution_count": null,
      "id": "c44c91e8",
      "metadata": {
        "execution": {
          "iopub.execute_input": "2023-03-04T05:05:38.313877Z",
          "iopub.status.busy": "2023-03-04T05:05:38.312600Z",
          "iopub.status.idle": "2023-03-04T05:05:38.319878Z",
          "shell.execute_reply": "2023-03-04T05:05:38.318870Z"
        },
        "papermill": {
          "duration": 0.015187,
          "end_time": "2023-03-04T05:05:38.322229",
          "exception": false,
          "start_time": "2023-03-04T05:05:38.307042",
          "status": "completed"
        },
        "tags": [],
        "colab": {
          "base_uri": "https://localhost:8080/"
        },
        "id": "c44c91e8",
        "outputId": "e0066a33-abd8-49e8-b89a-bce82870dad6"
      },
      "outputs": [
        {
          "output_type": "execute_result",
          "data": {
            "text/plain": [
              "['go jurong point, crazy.. avail bugi n great world la e buffet... cine got amor wat...',\n",
              " 'ok lar... joke wif u oni...',\n",
              " \"free entri 2 wkli comp win fa cup final tkt 21st may 2005. text fa 87121 receiv entri question(std txt rate)t&c' appli 08452810075over18'\",\n",
              " 'u dun say earli hor... u c alreadi say...',\n",
              " 'nah think goe usf, live around though']"
            ]
          },
          "metadata": {},
          "execution_count": 8
        }
      ],
      "source": [
        "corpus[:5]"
      ]
    },
    {
      "cell_type": "code",
      "execution_count": null,
      "id": "fe36386e",
      "metadata": {
        "execution": {
          "iopub.execute_input": "2023-03-04T05:05:38.333592Z",
          "iopub.status.busy": "2023-03-04T05:05:38.332630Z",
          "iopub.status.idle": "2023-03-04T05:05:38.495393Z",
          "shell.execute_reply": "2023-03-04T05:05:38.494261Z"
        },
        "papermill": {
          "duration": 0.171445,
          "end_time": "2023-03-04T05:05:38.497938",
          "exception": false,
          "start_time": "2023-03-04T05:05:38.326493",
          "status": "completed"
        },
        "tags": [],
        "colab": {
          "base_uri": "https://localhost:8080/"
        },
        "id": "fe36386e",
        "outputId": "b16c056d-16d5-40b2-df8e-253a6801b3d3"
      },
      "outputs": [
        {
          "output_type": "execute_result",
          "data": {
            "text/plain": [
              "array([[0, 0, 0, 0, 0, 0, 0, 0, 0, 0],\n",
              "       [0, 0, 0, 0, 0, 0, 0, 0, 0, 0],\n",
              "       [0, 0, 0, 0, 0, 0, 0, 0, 0, 0],\n",
              "       [0, 0, 0, 0, 0, 0, 0, 0, 0, 0],\n",
              "       [0, 0, 0, 0, 0, 0, 0, 0, 0, 0],\n",
              "       [0, 0, 0, 0, 0, 0, 0, 0, 0, 0],\n",
              "       [0, 0, 0, 0, 0, 0, 0, 0, 0, 0],\n",
              "       [0, 0, 0, 0, 0, 0, 0, 0, 0, 0],\n",
              "       [0, 0, 0, 0, 0, 0, 0, 0, 0, 0],\n",
              "       [0, 0, 0, 0, 0, 0, 0, 0, 0, 0]])"
            ]
          },
          "metadata": {},
          "execution_count": 9
        }
      ],
      "source": [
        "from sklearn.feature_extraction.text import CountVectorizer\n",
        "cv = CountVectorizer(max_features=8300)\n",
        "X = cv.fit_transform(corpus).toarray()\n",
        "y = dataset.iloc[:,0].values\n",
        "X[:10,:10]"
      ]
    },
    {
      "cell_type": "code",
      "execution_count": null,
      "id": "5e493946",
      "metadata": {
        "execution": {
          "iopub.execute_input": "2023-03-04T05:05:38.508676Z",
          "iopub.status.busy": "2023-03-04T05:05:38.508250Z",
          "iopub.status.idle": "2023-03-04T05:05:38.696173Z",
          "shell.execute_reply": "2023-03-04T05:05:38.695141Z"
        },
        "papermill": {
          "duration": 0.196041,
          "end_time": "2023-03-04T05:05:38.698899",
          "exception": false,
          "start_time": "2023-03-04T05:05:38.502858",
          "status": "completed"
        },
        "tags": [],
        "id": "5e493946"
      },
      "outputs": [],
      "source": [
        "from sklearn.model_selection import train_test_split\n",
        "X_train, X_test, y_train, y_test = train_test_split(X, y, test_size=0.2,random_state=0)"
      ]
    },
    {
      "cell_type": "code",
      "execution_count": null,
      "id": "721e2a7d",
      "metadata": {
        "execution": {
          "iopub.execute_input": "2023-03-04T05:05:38.709972Z",
          "iopub.status.busy": "2023-03-04T05:05:38.709652Z",
          "iopub.status.idle": "2023-03-04T05:05:46.290675Z",
          "shell.execute_reply": "2023-03-04T05:05:46.289402Z"
        },
        "papermill": {
          "duration": 7.589879,
          "end_time": "2023-03-04T05:05:46.293612",
          "exception": false,
          "start_time": "2023-03-04T05:05:38.703733",
          "status": "completed"
        },
        "tags": [],
        "id": "721e2a7d"
      },
      "outputs": [],
      "source": [
        "import keras\n",
        "from keras.models import Sequential\n",
        "from keras.layers import Dense, Dropout"
      ]
    },
    {
      "cell_type": "code",
      "execution_count": null,
      "id": "a24434d5",
      "metadata": {
        "execution": {
          "iopub.execute_input": "2023-03-04T05:05:46.306614Z",
          "iopub.status.busy": "2023-03-04T05:05:46.304473Z",
          "iopub.status.idle": "2023-03-04T05:06:11.866425Z",
          "shell.execute_reply": "2023-03-04T05:06:11.865153Z"
        },
        "papermill": {
          "duration": 25.570485,
          "end_time": "2023-03-04T05:06:11.868902",
          "exception": false,
          "start_time": "2023-03-04T05:05:46.298417",
          "status": "completed"
        },
        "tags": [],
        "colab": {
          "base_uri": "https://localhost:8080/"
        },
        "id": "a24434d5",
        "outputId": "f075cf19-543d-4897-c8b2-b6e23596d78e"
      },
      "outputs": [
        {
          "output_type": "stream",
          "name": "stdout",
          "text": [
            "Epoch 1/20\n",
            "90/90 [==============================] - 21s 220ms/step - loss: 0.1901 - accuracy: 0.9441\n",
            "Epoch 2/20\n",
            "90/90 [==============================] - 20s 222ms/step - loss: 0.0146 - accuracy: 0.9953\n",
            "Epoch 3/20\n",
            "90/90 [==============================] - 20s 226ms/step - loss: 0.0021 - accuracy: 0.9987\n",
            "Epoch 4/20\n",
            "90/90 [==============================] - 20s 222ms/step - loss: 1.4256e-04 - accuracy: 1.0000\n",
            "Epoch 5/20\n",
            "90/90 [==============================] - 20s 221ms/step - loss: 4.7588e-05 - accuracy: 1.0000\n",
            "Epoch 6/20\n",
            "90/90 [==============================] - 20s 223ms/step - loss: 1.8823e-05 - accuracy: 1.0000\n",
            "Epoch 7/20\n",
            "90/90 [==============================] - 20s 223ms/step - loss: 4.3413e-05 - accuracy: 1.0000\n",
            "Epoch 8/20\n",
            "90/90 [==============================] - 19s 216ms/step - loss: 7.9751e-06 - accuracy: 1.0000\n",
            "Epoch 9/20\n",
            "90/90 [==============================] - 20s 222ms/step - loss: 5.0696e-06 - accuracy: 1.0000\n",
            "Epoch 10/20\n",
            "90/90 [==============================] - 27s 296ms/step - loss: 5.2893e-06 - accuracy: 1.0000\n",
            "Epoch 11/20\n",
            "90/90 [==============================] - 20s 222ms/step - loss: 0.0028 - accuracy: 0.9991\n",
            "Epoch 12/20\n",
            "90/90 [==============================] - 20s 220ms/step - loss: 0.0105 - accuracy: 0.9991\n",
            "Epoch 13/20\n",
            "90/90 [==============================] - 19s 215ms/step - loss: 0.0043 - accuracy: 0.9996\n",
            "Epoch 14/20\n",
            "90/90 [==============================] - 21s 232ms/step - loss: 0.0082 - accuracy: 0.9991\n",
            "Epoch 15/20\n",
            "90/90 [==============================] - 20s 226ms/step - loss: 1.9598e-05 - accuracy: 1.0000\n",
            "Epoch 16/20\n",
            "90/90 [==============================] - 20s 227ms/step - loss: 2.8142e-05 - accuracy: 1.0000\n",
            "Epoch 17/20\n",
            "90/90 [==============================] - 20s 221ms/step - loss: 2.1598e-05 - accuracy: 1.0000\n",
            "Epoch 18/20\n",
            "90/90 [==============================] - 21s 232ms/step - loss: 1.5793e-06 - accuracy: 1.0000\n",
            "Epoch 19/20\n",
            "90/90 [==============================] - 20s 228ms/step - loss: 4.0216e-06 - accuracy: 1.0000\n",
            "Epoch 20/20\n",
            "90/90 [==============================] - 20s 225ms/step - loss: 0.0036 - accuracy: 0.9996\n"
          ]
        },
        {
          "output_type": "execute_result",
          "data": {
            "text/plain": [
              "<keras.callbacks.History at 0x7f33a0ee6b80>"
            ]
          },
          "metadata": {},
          "execution_count": 12
        }
      ],
      "source": [
        "model = Sequential()\n",
        "model.add(Dense(units=2000, activation='relu'))\n",
        "model.add(Dense(units=1500, activation='relu'))\n",
        "model.add(Dropout(0.8))\n",
        "model.add(Dense(units=1000, activation='relu'))\n",
        "model.add(Dense(units=500, activation='relu'))\n",
        "model.add(Dense(units=1, activation='sigmoid'))\n",
        "model.compile(optimizer='adam', loss='binary_crossentropy', metrics=['accuracy'])\n",
        "model.fit(X_train,y_train,batch_size=50,epochs=20)"
      ]
    },
    {
      "cell_type": "code",
      "execution_count": null,
      "id": "0178e728",
      "metadata": {
        "execution": {
          "iopub.execute_input": "2023-03-04T05:06:11.917956Z",
          "iopub.status.busy": "2023-03-04T05:06:11.917051Z",
          "iopub.status.idle": "2023-03-04T05:06:12.507716Z",
          "shell.execute_reply": "2023-03-04T05:06:12.506565Z"
        },
        "papermill": {
          "duration": 0.617568,
          "end_time": "2023-03-04T05:06:12.510421",
          "exception": false,
          "start_time": "2023-03-04T05:06:11.892853",
          "status": "completed"
        },
        "tags": [],
        "colab": {
          "base_uri": "https://localhost:8080/"
        },
        "id": "0178e728",
        "outputId": "79c05f8b-a611-4896-d418-b4f98196e398"
      },
      "outputs": [
        {
          "output_type": "stream",
          "name": "stdout",
          "text": [
            "35/35 [==============================] - 1s 27ms/step\n"
          ]
        }
      ],
      "source": [
        "y_pred = model.predict(X_test)\n",
        "y_pred = (y_pred>0.5)"
      ]
    },
    {
      "cell_type": "code",
      "execution_count": null,
      "id": "e879aa43",
      "metadata": {
        "execution": {
          "iopub.execute_input": "2023-03-04T05:06:12.561968Z",
          "iopub.status.busy": "2023-03-04T05:06:12.561616Z",
          "iopub.status.idle": "2023-03-04T05:06:12.571888Z",
          "shell.execute_reply": "2023-03-04T05:06:12.570499Z"
        },
        "papermill": {
          "duration": 0.038931,
          "end_time": "2023-03-04T05:06:12.575078",
          "exception": false,
          "start_time": "2023-03-04T05:06:12.536147",
          "status": "completed"
        },
        "tags": [],
        "colab": {
          "base_uri": "https://localhost:8080/"
        },
        "id": "e879aa43",
        "outputId": "88340612-154a-48d5-d25c-130761302657"
      },
      "outputs": [
        {
          "output_type": "stream",
          "name": "stdout",
          "text": [
            "0.9757847533632287\n"
          ]
        }
      ],
      "source": [
        "from sklearn.metrics import accuracy_score, confusion_matrix, ConfusionMatrixDisplay\n",
        "accuracy = accuracy_score(y_test, y_pred)\n",
        "cm = confusion_matrix(y_test, y_pred)\n",
        "print(accuracy)"
      ]
    },
    {
      "cell_type": "code",
      "execution_count": null,
      "id": "e4ffc394",
      "metadata": {
        "execution": {
          "iopub.execute_input": "2023-03-04T05:06:12.623795Z",
          "iopub.status.busy": "2023-03-04T05:06:12.622853Z",
          "iopub.status.idle": "2023-03-04T05:06:12.899107Z",
          "shell.execute_reply": "2023-03-04T05:06:12.898051Z"
        },
        "papermill": {
          "duration": 0.302865,
          "end_time": "2023-03-04T05:06:12.901732",
          "exception": false,
          "start_time": "2023-03-04T05:06:12.598867",
          "status": "completed"
        },
        "tags": [],
        "colab": {
          "base_uri": "https://localhost:8080/",
          "height": 296
        },
        "id": "e4ffc394",
        "outputId": "ca531e85-db6e-457f-c47b-5886b86575ee"
      },
      "outputs": [
        {
          "output_type": "execute_result",
          "data": {
            "text/plain": [
              "<sklearn.metrics._plot.confusion_matrix.ConfusionMatrixDisplay at 0x7f34282ce970>"
            ]
          },
          "metadata": {},
          "execution_count": 15
        },
        {
          "output_type": "display_data",
          "data": {
            "text/plain": [
              "<Figure size 432x288 with 2 Axes>"
            ],
            "image/png": "[encoded data removed]"
          },
          "metadata": {
            "needs_background": "light"
          }
        }
      ],
      "source": [
        "import matplotlib.pyplot as plt\n",
        "confusion_show = ConfusionMatrixDisplay(confusion_matrix=cm)\n",
        "confusion_show.plot()"
      ]
    },
    {
      "cell_type": "markdown",
      "source": [
        "Thank you"
      ],
      "metadata": {
        "id": "oe4m1gtcLJKj"
      },
      "id": "oe4m1gtcLJKj"
    }
  ],
  "metadata": {
    "kernelspec": {
      "display_name": "Python 3",
      "language": "python",
      "name": "python3"
    },
    "language_info": {
      "codemirror_mode": {
        "name": "ipython",
        "version": 3
      },
      "file_extension": ".py",
      "mimetype": "text/x-python",
      "name": "python",
      "nbconvert_exporter": "python",
      "pygments_lexer": "ipython3",
      "version": "3.7.12"
    },
    "papermill": {
      "default_parameters": {},
      "duration": 54.076168,
      "end_time": "2023-03-04T05:06:16.537100",
      "environment_variables": {},
      "exception": null,
      "input_path": "__notebook__.ipynb",
      "output_path": "__notebook__.ipynb",
      "parameters": {},
      "start_time": "2023-03-04T05:05:22.460932",
      "version": "2.4.0"
    },
    "colab": {
      "provenance": [],
      "include_colab_link": true
    }
  },
  "nbformat": 4,
  "nbformat_minor": 5
}