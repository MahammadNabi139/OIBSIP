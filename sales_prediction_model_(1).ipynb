{
  "metadata": {
    "kernelspec": {
      "language": "python",
      "display_name": "Python 3",
      "name": "python3"
    },
    "language_info": {
      "name": "python",
      "version": "3.7.12",
      "mimetype": "text/x-python",
      "codemirror_mode": {
        "name": "ipython",
        "version": 3
      },
      "pygments_lexer": "ipython3",
      "nbconvert_exporter": "python",
      "file_extension": ".py"
    },
    "colab": {
      "provenance": [],
      "include_colab_link": true
    }
  },
  "nbformat_minor": 0,
  "nbformat": 4,
  "cells": [
    {
      "cell_type": "markdown",
      "metadata": {
        "id": "view-in-github",
        "colab_type": "text"
      },
      "source": [
        "<a href=\"https://colab.research.google.com/github/MahammadNabi139/OIBSIP/blob/main/sales_prediction_model_(1).ipynb\" target=\"_parent\"><img src=\"https://colab.research.google.com/assets/colab-badge.svg\" alt=\"Open In Colab\"/></a>"
      ]
    },
    {
      "cell_type": "markdown",
      "source": [
        "Submitted by DUDEKULA MAHMMAD NABI"
      ],
      "metadata": {
        "id": "EgzZaoBIMQqU"
      }
    },
    {
      "cell_type": "code",
      "source": [
        "\n",
        "import numpy as np # linear algebra\n",
        "import pandas as pd # data processing, CSV file I/O (e.g. pd.read_csv)\n",
        "import matplotlib.pyplot as plt\n",
        "import seaborn as sns"
      ],
      "metadata": {
        "_uuid": "8f2839f25d086af736a60e9eeb907d3b93b6e0e5",
        "_cell_guid": "b1076dfc-b9ad-4769-8c92-a6c4dae69d19",
        "execution": {
          "iopub.status.busy": "2023-01-02T05:26:03.886740Z",
          "iopub.execute_input": "2023-01-02T05:26:03.887217Z",
          "iopub.status.idle": "2023-01-02T05:26:05.185906Z",
          "shell.execute_reply.started": "2023-01-02T05:26:03.887114Z",
          "shell.execute_reply": "2023-01-02T05:26:05.184523Z"
        },
        "trusted": true,
        "id": "-6DNMMbY7H7l"
      },
      "execution_count": null,
      "outputs": []
    },
    {
      "cell_type": "markdown",
      "source": [
        "<img src= \"https://media.istockphoto.com/id/643956812/photo/sales-imporvement.jpg?s=612x612&w=0&k=20&c=BERc0TihWU4sZpzSTBsJpQ6em2wowpYCtHA0Iwbl7QM=\" alt =\"sales\" style='width: 700px;'>"
      ],
      "metadata": {
        "id": "0Dlz6s127H7o"
      }
    },
    {
      "cell_type": "markdown",
      "source": [
        "# Table of Content\n",
        "* import dataset\n",
        "* cleaning \n",
        "* transforming\n",
        "* eda \n",
        "* train test split\n",
        "* scaling \n",
        "* model training\n",
        "* * accuracy"
      ],
      "metadata": {
        "id": "d0joLDoV7H7q"
      }
    },
    {
      "cell_type": "code",
      "source": [
        "df=pd.read_csv('/content/Advertising.csv')"
      ],
      "metadata": {
        "execution": {
          "iopub.status.busy": "2023-01-02T05:26:27.743891Z",
          "iopub.execute_input": "2023-01-02T05:26:27.744347Z",
          "iopub.status.idle": "2023-01-02T05:26:27.767141Z",
          "shell.execute_reply.started": "2023-01-02T05:26:27.744312Z",
          "shell.execute_reply": "2023-01-02T05:26:27.765667Z"
        },
        "trusted": true,
        "id": "f0nV13QO7H7r"
      },
      "execution_count": null,
      "outputs": []
    },
    {
      "cell_type": "markdown",
      "source": [
        "# import dataset"
      ],
      "metadata": {
        "id": "P_jYDR3P7H7r"
      }
    },
    {
      "cell_type": "code",
      "source": [
        "df.head(10)"
      ],
      "metadata": {
        "execution": {
          "iopub.status.busy": "2023-01-02T05:29:28.555884Z",
          "iopub.execute_input": "2023-01-02T05:29:28.556434Z",
          "iopub.status.idle": "2023-01-02T05:29:28.586063Z",
          "shell.execute_reply.started": "2023-01-02T05:29:28.556387Z",
          "shell.execute_reply": "2023-01-02T05:29:28.584789Z"
        },
        "trusted": true,
        "colab": {
          "base_uri": "https://localhost:8080/",
          "height": 363
        },
        "id": "5KIDLOjT7H7s",
        "outputId": "55fedfab-8983-4f61-b0f9-ace2fd5ab843"
      },
      "execution_count": null,
      "outputs": [
        {
          "output_type": "execute_result",
          "data": {
            "text/plain": [
              "   Unnamed: 0     TV  Radio  Newspaper  Sales\n",
              "0           1  230.1   37.8       69.2   22.1\n",
              "1           2   44.5   39.3       45.1   10.4\n",
              "2           3   17.2   45.9       69.3    9.3\n",
              "3           4  151.5   41.3       58.5   18.5\n",
              "4           5  180.8   10.8       58.4   12.9\n",
              "5           6    8.7   48.9       75.0    7.2\n",
              "6           7   57.5   32.8       23.5   11.8\n",
              "7           8  120.2   19.6       11.6   13.2\n",
              "8           9    8.6    2.1        1.0    4.8\n",
              "9          10  199.8    2.6       21.2   10.6"
            ],
            "text/html": [
              "\n",
              "  <div id=\"df-6321b34a-06f5-4345-a12b-18c07dc7511e\">\n",
              "    <div class=\"colab-df-container\">\n",
              "      <div>\n",
              "<style scoped>\n",
              "    .dataframe tbody tr th:only-of-type {\n",
              "        vertical-align: middle;\n",
              "    }\n",
              "\n",
              "    .dataframe tbody tr th {\n",
              "        vertical-align: top;\n",
              "    }\n",
              "\n",
              "    .dataframe thead th {\n",
              "        text-align: right;\n",
              "    }\n",
              "</style>\n",
              "<table border=\"1\" class=\"dataframe\">\n",
              "  <thead>\n",
              "    <tr style=\"text-align: right;\">\n",
              "      <th></th>\n",
              "      <th>Unnamed: 0</th>\n",
              "      <th>TV</th>\n",
              "      <th>Radio</th>\n",
              "      <th>Newspaper</th>\n",
              "      <th>Sales</th>\n",
              "    </tr>\n",
              "  </thead>\n",
              "  <tbody>\n",
              "    <tr>\n",
              "      <th>0</th>\n",
              "      <td>1</td>\n",
              "      <td>230.1</td>\n",
              "      <td>37.8</td>\n",
              "      <td>69.2</td>\n",
              "      <td>22.1</td>\n",
              "    </tr>\n",
              "    <tr>\n",
              "      <th>1</th>\n",
              "      <td>2</td>\n",
              "      <td>44.5</td>\n",
              "      <td>39.3</td>\n",
              "      <td>45.1</td>\n",
              "      <td>10.4</td>\n",
              "    </tr>\n",
              "    <tr>\n",
              "      <th>2</th>\n",
              "      <td>3</td>\n",
              "      <td>17.2</td>\n",
              "      <td>45.9</td>\n",
              "      <td>69.3</td>\n",
              "      <td>9.3</td>\n",
              "    </tr>\n",
              "    <tr>\n",
              "      <th>3</th>\n",
              "      <td>4</td>\n",
              "      <td>151.5</td>\n",
              "      <td>41.3</td>\n",
              "      <td>58.5</td>\n",
              "      <td>18.5</td>\n",
              "    </tr>\n",
              "    <tr>\n",
              "      <th>4</th>\n",
              "      <td>5</td>\n",
              "      <td>180.8</td>\n",
              "      <td>10.8</td>\n",
              "      <td>58.4</td>\n",
              "      <td>12.9</td>\n",
              "    </tr>\n",
              "    <tr>\n",
              "      <th>5</th>\n",
              "      <td>6</td>\n",
              "      <td>8.7</td>\n",
              "      <td>48.9</td>\n",
              "      <td>75.0</td>\n",
              "      <td>7.2</td>\n",
              "    </tr>\n",
              "    <tr>\n",
              "      <th>6</th>\n",
              "      <td>7</td>\n",
              "      <td>57.5</td>\n",
              "      <td>32.8</td>\n",
              "      <td>23.5</td>\n",
              "      <td>11.8</td>\n",
              "    </tr>\n",
              "    <tr>\n",
              "      <th>7</th>\n",
              "      <td>8</td>\n",
              "      <td>120.2</td>\n",
              "      <td>19.6</td>\n",
              "      <td>11.6</td>\n",
              "      <td>13.2</td>\n",
              "    </tr>\n",
              "    <tr>\n",
              "      <th>8</th>\n",
              "      <td>9</td>\n",
              "      <td>8.6</td>\n",
              "      <td>2.1</td>\n",
              "      <td>1.0</td>\n",
              "      <td>4.8</td>\n",
              "    </tr>\n",
              "    <tr>\n",
              "      <th>9</th>\n",
              "      <td>10</td>\n",
              "      <td>199.8</td>\n",
              "      <td>2.6</td>\n",
              "      <td>21.2</td>\n",
              "      <td>10.6</td>\n",
              "    </tr>\n",
              "  </tbody>\n",
              "</table>\n",
              "</div>\n",
              "      <button class=\"colab-df-convert\" onclick=\"convertToInteractive('df-6321b34a-06f5-4345-a12b-18c07dc7511e')\"\n",
              "              title=\"Convert this dataframe to an interactive table.\"\n",
              "              style=\"display:none;\">\n",
              "        \n",
              "  <svg xmlns=\"http://www.w3.org/2000/svg\" height=\"24px\"viewBox=\"0 0 24 24\"\n",
              "       width=\"24px\">\n",
              "    <path d=\"M0 0h24v24H0V0z\" fill=\"none\"/>\n",
              "    <path d=\"M18.56 5.44l.94 2.06.94-2.06 2.06-.94-2.06-.94-.94-2.06-.94 2.06-2.06.94zm-11 1L8.5 8.5l.94-2.06 2.06-.94-2.06-.94L8.5 2.5l-.94 2.06-2.06.94zm10 10l.94 2.06.94-2.06 2.06-.94-2.06-.94-.94-2.06-.94 2.06-2.06.94z\"/><path d=\"M17.41 7.96l-1.37-1.37c-.4-.4-.92-.59-1.43-.59-.52 0-1.04.2-1.43.59L10.3 9.45l-7.72 7.72c-.78.78-.78 2.05 0 2.83L4 21.41c.39.39.9.59 1.41.59.51 0 1.02-.2 1.41-.59l7.78-7.78 2.81-2.81c.8-.78.8-2.07 0-2.86zM5.41 20L4 18.59l7.72-7.72 1.47 1.35L5.41 20z\"/>\n",
              "  </svg>\n",
              "      </button>\n",
              "      \n",
              "  <style>\n",
              "    .colab-df-container {\n",
              "      display:flex;\n",
              "      flex-wrap:wrap;\n",
              "      gap: 12px;\n",
              "    }\n",
              "\n",
              "    .colab-df-convert {\n",
              "      background-color: #E8F0FE;\n",
              "      border: none;\n",
              "      border-radius: 50%;\n",
              "      cursor: pointer;\n",
              "      display: none;\n",
              "      fill: #1967D2;\n",
              "      height: 32px;\n",
              "      padding: 0 0 0 0;\n",
              "      width: 32px;\n",
              "    }\n",
              "\n",
              "    .colab-df-convert:hover {\n",
              "      background-color: #E2EBFA;\n",
              "      box-shadow: 0px 1px 2px rgba(60, 64, 67, 0.3), 0px 1px 3px 1px rgba(60, 64, 67, 0.15);\n",
              "      fill: #174EA6;\n",
              "    }\n",
              "\n",
              "    [theme=dark] .colab-df-convert {\n",
              "      background-color: #3B4455;\n",
              "      fill: #D2E3FC;\n",
              "    }\n",
              "\n",
              "    [theme=dark] .colab-df-convert:hover {\n",
              "      background-color: #434B5C;\n",
              "      box-shadow: 0px 1px 3px 1px rgba(0, 0, 0, 0.15);\n",
              "      filter: drop-shadow(0px 1px 2px rgba(0, 0, 0, 0.3));\n",
              "      fill: #FFFFFF;\n",
              "    }\n",
              "  </style>\n",
              "\n",
              "      <script>\n",
              "        const buttonEl =\n",
              "          document.querySelector('#df-6321b34a-06f5-4345-a12b-18c07dc7511e button.colab-df-convert');\n",
              "        buttonEl.style.display =\n",
              "          google.colab.kernel.accessAllowed ? 'block' : 'none';\n",
              "\n",
              "        async function convertToInteractive(key) {\n",
              "          const element = document.querySelector('#df-6321b34a-06f5-4345-a12b-18c07dc7511e');\n",
              "          const dataTable =\n",
              "            await google.colab.kernel.invokeFunction('convertToInteractive',\n",
              "                                                     [key], {});\n",
              "          if (!dataTable) return;\n",
              "\n",
              "          const docLinkHtml = 'Like what you see? Visit the ' +\n",
              "            '<a target=\"_blank\" href=https://colab.research.google.com/notebooks/data_table.ipynb>data table notebook</a>'\n",
              "            + ' to learn more about interactive tables.';\n",
              "          element.innerHTML = '';\n",
              "          dataTable['output_type'] = 'display_data';\n",
              "          await google.colab.output.renderOutput(dataTable, element);\n",
              "          const docLink = document.createElement('div');\n",
              "          docLink.innerHTML = docLinkHtml;\n",
              "          element.appendChild(docLink);\n",
              "        }\n",
              "      </script>\n",
              "    </div>\n",
              "  </div>\n",
              "  "
            ]
          },
          "metadata": {},
          "execution_count": 5
        }
      ]
    },
    {
      "cell_type": "code",
      "source": [
        "df.shape"
      ],
      "metadata": {
        "execution": {
          "iopub.status.busy": "2023-01-02T05:35:45.338337Z",
          "iopub.execute_input": "2023-01-02T05:35:45.338975Z",
          "iopub.status.idle": "2023-01-02T05:35:45.348932Z",
          "shell.execute_reply.started": "2023-01-02T05:35:45.338924Z",
          "shell.execute_reply": "2023-01-02T05:35:45.347613Z"
        },
        "trusted": true,
        "colab": {
          "base_uri": "https://localhost:8080/"
        },
        "id": "t0ztfdom7H7t",
        "outputId": "b37e6491-7aee-41fa-8190-2174d78ac1c4"
      },
      "execution_count": null,
      "outputs": [
        {
          "output_type": "execute_result",
          "data": {
            "text/plain": [
              "(200, 5)"
            ]
          },
          "metadata": {},
          "execution_count": 6
        }
      ]
    },
    {
      "cell_type": "markdown",
      "source": [
        "# cleaning"
      ],
      "metadata": {
        "id": "JMbTOMrS7H7u"
      }
    },
    {
      "cell_type": "code",
      "source": [
        "df=df.drop(columns=['Unnamed: 0'])"
      ],
      "metadata": {
        "trusted": true,
        "id": "8RRsFVOF7H7v"
      },
      "execution_count": null,
      "outputs": []
    },
    {
      "cell_type": "code",
      "source": [
        "df.head(10)"
      ],
      "metadata": {
        "execution": {
          "iopub.status.busy": "2023-01-02T05:31:42.114593Z",
          "iopub.execute_input": "2023-01-02T05:31:42.115057Z",
          "iopub.status.idle": "2023-01-02T05:31:42.134226Z",
          "shell.execute_reply.started": "2023-01-02T05:31:42.115021Z",
          "shell.execute_reply": "2023-01-02T05:31:42.132797Z"
        },
        "trusted": true,
        "colab": {
          "base_uri": "https://localhost:8080/",
          "height": 363
        },
        "id": "V9EG8rN67H7w",
        "outputId": "86b15d57-6fe2-4150-814b-c2a2345915d7"
      },
      "execution_count": null,
      "outputs": [
        {
          "output_type": "execute_result",
          "data": {
            "text/plain": [
              "      TV  Radio  Newspaper  Sales\n",
              "0  230.1   37.8       69.2   22.1\n",
              "1   44.5   39.3       45.1   10.4\n",
              "2   17.2   45.9       69.3    9.3\n",
              "3  151.5   41.3       58.5   18.5\n",
              "4  180.8   10.8       58.4   12.9\n",
              "5    8.7   48.9       75.0    7.2\n",
              "6   57.5   32.8       23.5   11.8\n",
              "7  120.2   19.6       11.6   13.2\n",
              "8    8.6    2.1        1.0    4.8\n",
              "9  199.8    2.6       21.2   10.6"
            ],
            "text/html": [
              "\n",
              "  <div id=\"df-1877c0b1-a0e4-49e0-ad0f-51f153993b41\">\n",
              "    <div class=\"colab-df-container\">\n",
              "      <div>\n",
              "<style scoped>\n",
              "    .dataframe tbody tr th:only-of-type {\n",
              "        vertical-align: middle;\n",
              "    }\n",
              "\n",
              "    .dataframe tbody tr th {\n",
              "        vertical-align: top;\n",
              "    }\n",
              "\n",
              "    .dataframe thead th {\n",
              "        text-align: right;\n",
              "    }\n",
              "</style>\n",
              "<table border=\"1\" class=\"dataframe\">\n",
              "  <thead>\n",
              "    <tr style=\"text-align: right;\">\n",
              "      <th></th>\n",
              "      <th>TV</th>\n",
              "      <th>Radio</th>\n",
              "      <th>Newspaper</th>\n",
              "      <th>Sales</th>\n",
              "    </tr>\n",
              "  </thead>\n",
              "  <tbody>\n",
              "    <tr>\n",
              "      <th>0</th>\n",
              "      <td>230.1</td>\n",
              "      <td>37.8</td>\n",
              "      <td>69.2</td>\n",
              "      <td>22.1</td>\n",
              "    </tr>\n",
              "    <tr>\n",
              "      <th>1</th>\n",
              "      <td>44.5</td>\n",
              "      <td>39.3</td>\n",
              "      <td>45.1</td>\n",
              "      <td>10.4</td>\n",
              "    </tr>\n",
              "    <tr>\n",
              "      <th>2</th>\n",
              "      <td>17.2</td>\n",
              "      <td>45.9</td>\n",
              "      <td>69.3</td>\n",
              "      <td>9.3</td>\n",
              "    </tr>\n",
              "    <tr>\n",
              "      <th>3</th>\n",
              "      <td>151.5</td>\n",
              "      <td>41.3</td>\n",
              "      <td>58.5</td>\n",
              "      <td>18.5</td>\n",
              "    </tr>\n",
              "    <tr>\n",
              "      <th>4</th>\n",
              "      <td>180.8</td>\n",
              "      <td>10.8</td>\n",
              "      <td>58.4</td>\n",
              "      <td>12.9</td>\n",
              "    </tr>\n",
              "    <tr>\n",
              "      <th>5</th>\n",
              "      <td>8.7</td>\n",
              "      <td>48.9</td>\n",
              "      <td>75.0</td>\n",
              "      <td>7.2</td>\n",
              "    </tr>\n",
              "    <tr>\n",
              "      <th>6</th>\n",
              "      <td>57.5</td>\n",
              "      <td>32.8</td>\n",
              "      <td>23.5</td>\n",
              "      <td>11.8</td>\n",
              "    </tr>\n",
              "    <tr>\n",
              "      <th>7</th>\n",
              "      <td>120.2</td>\n",
              "      <td>19.6</td>\n",
              "      <td>11.6</td>\n",
              "      <td>13.2</td>\n",
              "    </tr>\n",
              "    <tr>\n",
              "      <th>8</th>\n",
              "      <td>8.6</td>\n",
              "      <td>2.1</td>\n",
              "      <td>1.0</td>\n",
              "      <td>4.8</td>\n",
              "    </tr>\n",
              "    <tr>\n",
              "      <th>9</th>\n",
              "      <td>199.8</td>\n",
              "      <td>2.6</td>\n",
              "      <td>21.2</td>\n",
              "      <td>10.6</td>\n",
              "    </tr>\n",
              "  </tbody>\n",
              "</table>\n",
              "</div>\n",
              "      <button class=\"colab-df-convert\" onclick=\"convertToInteractive('df-1877c0b1-a0e4-49e0-ad0f-51f153993b41')\"\n",
              "              title=\"Convert this dataframe to an interactive table.\"\n",
              "              style=\"display:none;\">\n",
              "        \n",
              "  <svg xmlns=\"http://www.w3.org/2000/svg\" height=\"24px\"viewBox=\"0 0 24 24\"\n",
              "       width=\"24px\">\n",
              "    <path d=\"M0 0h24v24H0V0z\" fill=\"none\"/>\n",
              "    <path d=\"M18.56 5.44l.94 2.06.94-2.06 2.06-.94-2.06-.94-.94-2.06-.94 2.06-2.06.94zm-11 1L8.5 8.5l.94-2.06 2.06-.94-2.06-.94L8.5 2.5l-.94 2.06-2.06.94zm10 10l.94 2.06.94-2.06 2.06-.94-2.06-.94-.94-2.06-.94 2.06-2.06.94z\"/><path d=\"M17.41 7.96l-1.37-1.37c-.4-.4-.92-.59-1.43-.59-.52 0-1.04.2-1.43.59L10.3 9.45l-7.72 7.72c-.78.78-.78 2.05 0 2.83L4 21.41c.39.39.9.59 1.41.59.51 0 1.02-.2 1.41-.59l7.78-7.78 2.81-2.81c.8-.78.8-2.07 0-2.86zM5.41 20L4 18.59l7.72-7.72 1.47 1.35L5.41 20z\"/>\n",
              "  </svg>\n",
              "      </button>\n",
              "      \n",
              "  <style>\n",
              "    .colab-df-container {\n",
              "      display:flex;\n",
              "      flex-wrap:wrap;\n",
              "      gap: 12px;\n",
              "    }\n",
              "\n",
              "    .colab-df-convert {\n",
              "      background-color: #E8F0FE;\n",
              "      border: none;\n",
              "      border-radius: 50%;\n",
              "      cursor: pointer;\n",
              "      display: none;\n",
              "      fill: #1967D2;\n",
              "      height: 32px;\n",
              "      padding: 0 0 0 0;\n",
              "      width: 32px;\n",
              "    }\n",
              "\n",
              "    .colab-df-convert:hover {\n",
              "      background-color: #E2EBFA;\n",
              "      box-shadow: 0px 1px 2px rgba(60, 64, 67, 0.3), 0px 1px 3px 1px rgba(60, 64, 67, 0.15);\n",
              "      fill: #174EA6;\n",
              "    }\n",
              "\n",
              "    [theme=dark] .colab-df-convert {\n",
              "      background-color: #3B4455;\n",
              "      fill: #D2E3FC;\n",
              "    }\n",
              "\n",
              "    [theme=dark] .colab-df-convert:hover {\n",
              "      background-color: #434B5C;\n",
              "      box-shadow: 0px 1px 3px 1px rgba(0, 0, 0, 0.15);\n",
              "      filter: drop-shadow(0px 1px 2px rgba(0, 0, 0, 0.3));\n",
              "      fill: #FFFFFF;\n",
              "    }\n",
              "  </style>\n",
              "\n",
              "      <script>\n",
              "        const buttonEl =\n",
              "          document.querySelector('#df-1877c0b1-a0e4-49e0-ad0f-51f153993b41 button.colab-df-convert');\n",
              "        buttonEl.style.display =\n",
              "          google.colab.kernel.accessAllowed ? 'block' : 'none';\n",
              "\n",
              "        async function convertToInteractive(key) {\n",
              "          const element = document.querySelector('#df-1877c0b1-a0e4-49e0-ad0f-51f153993b41');\n",
              "          const dataTable =\n",
              "            await google.colab.kernel.invokeFunction('convertToInteractive',\n",
              "                                                     [key], {});\n",
              "          if (!dataTable) return;\n",
              "\n",
              "          const docLinkHtml = 'Like what you see? Visit the ' +\n",
              "            '<a target=\"_blank\" href=https://colab.research.google.com/notebooks/data_table.ipynb>data table notebook</a>'\n",
              "            + ' to learn more about interactive tables.';\n",
              "          element.innerHTML = '';\n",
              "          dataTable['output_type'] = 'display_data';\n",
              "          await google.colab.output.renderOutput(dataTable, element);\n",
              "          const docLink = document.createElement('div');\n",
              "          docLink.innerHTML = docLinkHtml;\n",
              "          element.appendChild(docLink);\n",
              "        }\n",
              "      </script>\n",
              "    </div>\n",
              "  </div>\n",
              "  "
            ]
          },
          "metadata": {},
          "execution_count": 8
        }
      ]
    },
    {
      "cell_type": "markdown",
      "source": [
        "# transforming"
      ],
      "metadata": {
        "id": "7rnSBf1m7H7w"
      }
    },
    {
      "cell_type": "code",
      "source": [
        "df['TV']=df['TV'].astype('int')"
      ],
      "metadata": {
        "execution": {
          "iopub.status.busy": "2023-01-02T05:32:04.631491Z",
          "iopub.execute_input": "2023-01-02T05:32:04.632115Z",
          "iopub.status.idle": "2023-01-02T05:32:04.640220Z",
          "shell.execute_reply.started": "2023-01-02T05:32:04.632069Z",
          "shell.execute_reply": "2023-01-02T05:32:04.638806Z"
        },
        "trusted": true,
        "id": "BrSkFoTq7H7x"
      },
      "execution_count": null,
      "outputs": []
    },
    {
      "cell_type": "code",
      "source": [
        "df['Radio']=df['Radio'].astype('int')"
      ],
      "metadata": {
        "execution": {
          "iopub.status.busy": "2023-01-02T05:32:27.920589Z",
          "iopub.execute_input": "2023-01-02T05:32:27.921128Z",
          "iopub.status.idle": "2023-01-02T05:32:27.928614Z",
          "shell.execute_reply.started": "2023-01-02T05:32:27.921089Z",
          "shell.execute_reply": "2023-01-02T05:32:27.927428Z"
        },
        "trusted": true,
        "id": "TQkRq5HC7H7x"
      },
      "execution_count": null,
      "outputs": []
    },
    {
      "cell_type": "code",
      "source": [
        "df['Newspaper']=df['Newspaper'].astype('int')"
      ],
      "metadata": {
        "execution": {
          "iopub.status.busy": "2023-01-02T05:32:55.864415Z",
          "iopub.execute_input": "2023-01-02T05:32:55.864965Z",
          "iopub.status.idle": "2023-01-02T05:32:55.873250Z",
          "shell.execute_reply.started": "2023-01-02T05:32:55.864925Z",
          "shell.execute_reply": "2023-01-02T05:32:55.871842Z"
        },
        "trusted": true,
        "id": "XjPP3r3C7H7y"
      },
      "execution_count": null,
      "outputs": []
    },
    {
      "cell_type": "code",
      "source": [
        "df['Sales']=df['Sales'].astype('int')"
      ],
      "metadata": {
        "execution": {
          "iopub.status.busy": "2023-01-02T05:33:14.212231Z",
          "iopub.execute_input": "2023-01-02T05:33:14.212775Z",
          "iopub.status.idle": "2023-01-02T05:33:14.221085Z",
          "shell.execute_reply.started": "2023-01-02T05:33:14.212736Z",
          "shell.execute_reply": "2023-01-02T05:33:14.219607Z"
        },
        "trusted": true,
        "id": "dn_fjQGP7H7y"
      },
      "execution_count": null,
      "outputs": []
    },
    {
      "cell_type": "code",
      "source": [
        "df.head(10)"
      ],
      "metadata": {
        "execution": {
          "iopub.status.busy": "2023-01-02T05:33:20.358758Z",
          "iopub.execute_input": "2023-01-02T05:33:20.359215Z",
          "iopub.status.idle": "2023-01-02T05:33:20.372725Z",
          "shell.execute_reply.started": "2023-01-02T05:33:20.359179Z",
          "shell.execute_reply": "2023-01-02T05:33:20.371568Z"
        },
        "trusted": true,
        "colab": {
          "base_uri": "https://localhost:8080/",
          "height": 363
        },
        "id": "k4fD89yy7H7y",
        "outputId": "7d58cb2d-95a2-493d-cb8e-4a2c1a485397"
      },
      "execution_count": null,
      "outputs": [
        {
          "output_type": "execute_result",
          "data": {
            "text/plain": [
              "    TV  Radio  Newspaper  Sales\n",
              "0  230     37         69     22\n",
              "1   44     39         45     10\n",
              "2   17     45         69      9\n",
              "3  151     41         58     18\n",
              "4  180     10         58     12\n",
              "5    8     48         75      7\n",
              "6   57     32         23     11\n",
              "7  120     19         11     13\n",
              "8    8      2          1      4\n",
              "9  199      2         21     10"
            ],
            "text/html": [
              "\n",
              "  <div id=\"df-35fcc092-ce67-43a8-b5aa-7723bdcbf9d8\">\n",
              "    <div class=\"colab-df-container\">\n",
              "      <div>\n",
              "<style scoped>\n",
              "    .dataframe tbody tr th:only-of-type {\n",
              "        vertical-align: middle;\n",
              "    }\n",
              "\n",
              "    .dataframe tbody tr th {\n",
              "        vertical-align: top;\n",
              "    }\n",
              "\n",
              "    .dataframe thead th {\n",
              "        text-align: right;\n",
              "    }\n",
              "</style>\n",
              "<table border=\"1\" class=\"dataframe\">\n",
              "  <thead>\n",
              "    <tr style=\"text-align: right;\">\n",
              "      <th></th>\n",
              "      <th>TV</th>\n",
              "      <th>Radio</th>\n",
              "      <th>Newspaper</th>\n",
              "      <th>Sales</th>\n",
              "    </tr>\n",
              "  </thead>\n",
              "  <tbody>\n",
              "    <tr>\n",
              "      <th>0</th>\n",
              "      <td>230</td>\n",
              "      <td>37</td>\n",
              "      <td>69</td>\n",
              "      <td>22</td>\n",
              "    </tr>\n",
              "    <tr>\n",
              "      <th>1</th>\n",
              "      <td>44</td>\n",
              "      <td>39</td>\n",
              "      <td>45</td>\n",
              "      <td>10</td>\n",
              "    </tr>\n",
              "    <tr>\n",
              "      <th>2</th>\n",
              "      <td>17</td>\n",
              "      <td>45</td>\n",
              "      <td>69</td>\n",
              "      <td>9</td>\n",
              "    </tr>\n",
              "    <tr>\n",
              "      <th>3</th>\n",
              "      <td>151</td>\n",
              "      <td>41</td>\n",
              "      <td>58</td>\n",
              "      <td>18</td>\n",
              "    </tr>\n",
              "    <tr>\n",
              "      <th>4</th>\n",
              "      <td>180</td>\n",
              "      <td>10</td>\n",
              "      <td>58</td>\n",
              "      <td>12</td>\n",
              "    </tr>\n",
              "    <tr>\n",
              "      <th>5</th>\n",
              "      <td>8</td>\n",
              "      <td>48</td>\n",
              "      <td>75</td>\n",
              "      <td>7</td>\n",
              "    </tr>\n",
              "    <tr>\n",
              "      <th>6</th>\n",
              "      <td>57</td>\n",
              "      <td>32</td>\n",
              "      <td>23</td>\n",
              "      <td>11</td>\n",
              "    </tr>\n",
              "    <tr>\n",
              "      <th>7</th>\n",
              "      <td>120</td>\n",
              "      <td>19</td>\n",
              "      <td>11</td>\n",
              "      <td>13</td>\n",
              "    </tr>\n",
              "    <tr>\n",
              "      <th>8</th>\n",
              "      <td>8</td>\n",
              "      <td>2</td>\n",
              "      <td>1</td>\n",
              "      <td>4</td>\n",
              "    </tr>\n",
              "    <tr>\n",
              "      <th>9</th>\n",
              "      <td>199</td>\n",
              "      <td>2</td>\n",
              "      <td>21</td>\n",
              "      <td>10</td>\n",
              "    </tr>\n",
              "  </tbody>\n",
              "</table>\n",
              "</div>\n",
              "      <button class=\"colab-df-convert\" onclick=\"convertToInteractive('df-35fcc092-ce67-43a8-b5aa-7723bdcbf9d8')\"\n",
              "              title=\"Convert this dataframe to an interactive table.\"\n",
              "              style=\"display:none;\">\n",
              "        \n",
              "  <svg xmlns=\"http://www.w3.org/2000/svg\" height=\"24px\"viewBox=\"0 0 24 24\"\n",
              "       width=\"24px\">\n",
              "    <path d=\"M0 0h24v24H0V0z\" fill=\"none\"/>\n",
              "    <path d=\"M18.56 5.44l.94 2.06.94-2.06 2.06-.94-2.06-.94-.94-2.06-.94 2.06-2.06.94zm-11 1L8.5 8.5l.94-2.06 2.06-.94-2.06-.94L8.5 2.5l-.94 2.06-2.06.94zm10 10l.94 2.06.94-2.06 2.06-.94-2.06-.94-.94-2.06-.94 2.06-2.06.94z\"/><path d=\"M17.41 7.96l-1.37-1.37c-.4-.4-.92-.59-1.43-.59-.52 0-1.04.2-1.43.59L10.3 9.45l-7.72 7.72c-.78.78-.78 2.05 0 2.83L4 21.41c.39.39.9.59 1.41.59.51 0 1.02-.2 1.41-.59l7.78-7.78 2.81-2.81c.8-.78.8-2.07 0-2.86zM5.41 20L4 18.59l7.72-7.72 1.47 1.35L5.41 20z\"/>\n",
              "  </svg>\n",
              "      </button>\n",
              "      \n",
              "  <style>\n",
              "    .colab-df-container {\n",
              "      display:flex;\n",
              "      flex-wrap:wrap;\n",
              "      gap: 12px;\n",
              "    }\n",
              "\n",
              "    .colab-df-convert {\n",
              "      background-color: #E8F0FE;\n",
              "      border: none;\n",
              "      border-radius: 50%;\n",
              "      cursor: pointer;\n",
              "      display: none;\n",
              "      fill: #1967D2;\n",
              "      height: 32px;\n",
              "      padding: 0 0 0 0;\n",
              "      width: 32px;\n",
              "    }\n",
              "\n",
              "    .colab-df-convert:hover {\n",
              "      background-color: #E2EBFA;\n",
              "      box-shadow: 0px 1px 2px rgba(60, 64, 67, 0.3), 0px 1px 3px 1px rgba(60, 64, 67, 0.15);\n",
              "      fill: #174EA6;\n",
              "    }\n",
              "\n",
              "    [theme=dark] .colab-df-convert {\n",
              "      background-color: #3B4455;\n",
              "      fill: #D2E3FC;\n",
              "    }\n",
              "\n",
              "    [theme=dark] .colab-df-convert:hover {\n",
              "      background-color: #434B5C;\n",
              "      box-shadow: 0px 1px 3px 1px rgba(0, 0, 0, 0.15);\n",
              "      filter: drop-shadow(0px 1px 2px rgba(0, 0, 0, 0.3));\n",
              "      fill: #FFFFFF;\n",
              "    }\n",
              "  </style>\n",
              "\n",
              "      <script>\n",
              "        const buttonEl =\n",
              "          document.querySelector('#df-35fcc092-ce67-43a8-b5aa-7723bdcbf9d8 button.colab-df-convert');\n",
              "        buttonEl.style.display =\n",
              "          google.colab.kernel.accessAllowed ? 'block' : 'none';\n",
              "\n",
              "        async function convertToInteractive(key) {\n",
              "          const element = document.querySelector('#df-35fcc092-ce67-43a8-b5aa-7723bdcbf9d8');\n",
              "          const dataTable =\n",
              "            await google.colab.kernel.invokeFunction('convertToInteractive',\n",
              "                                                     [key], {});\n",
              "          if (!dataTable) return;\n",
              "\n",
              "          const docLinkHtml = 'Like what you see? Visit the ' +\n",
              "            '<a target=\"_blank\" href=https://colab.research.google.com/notebooks/data_table.ipynb>data table notebook</a>'\n",
              "            + ' to learn more about interactive tables.';\n",
              "          element.innerHTML = '';\n",
              "          dataTable['output_type'] = 'display_data';\n",
              "          await google.colab.output.renderOutput(dataTable, element);\n",
              "          const docLink = document.createElement('div');\n",
              "          docLink.innerHTML = docLinkHtml;\n",
              "          element.appendChild(docLink);\n",
              "        }\n",
              "      </script>\n",
              "    </div>\n",
              "  </div>\n",
              "  "
            ]
          },
          "metadata": {},
          "execution_count": 13
        }
      ]
    },
    {
      "cell_type": "code",
      "source": [
        "df.isnull().sum()"
      ],
      "metadata": {
        "execution": {
          "iopub.status.busy": "2023-01-02T05:33:37.747730Z",
          "iopub.execute_input": "2023-01-02T05:33:37.748210Z",
          "iopub.status.idle": "2023-01-02T05:33:37.759616Z",
          "shell.execute_reply.started": "2023-01-02T05:33:37.748172Z",
          "shell.execute_reply": "2023-01-02T05:33:37.758387Z"
        },
        "trusted": true,
        "colab": {
          "base_uri": "https://localhost:8080/"
        },
        "id": "EdQaNmgb7H7y",
        "outputId": "2755a199-593e-4358-a364-eb56a82056ba"
      },
      "execution_count": null,
      "outputs": [
        {
          "output_type": "execute_result",
          "data": {
            "text/plain": [
              "TV           0\n",
              "Radio        0\n",
              "Newspaper    0\n",
              "Sales        0\n",
              "dtype: int64"
            ]
          },
          "metadata": {},
          "execution_count": 14
        }
      ]
    },
    {
      "cell_type": "markdown",
      "source": [
        "# EDA"
      ],
      "metadata": {
        "id": "iCUqn91X7H7z"
      }
    },
    {
      "cell_type": "code",
      "source": [
        "sns.scatterplot(df['TV'])\n",
        "sns.scatterplot(df['Radio'])\n"
      ],
      "metadata": {
        "execution": {
          "iopub.status.busy": "2023-01-02T05:43:47.009484Z",
          "iopub.execute_input": "2023-01-02T05:43:47.009954Z",
          "iopub.status.idle": "2023-01-02T05:43:47.306024Z",
          "shell.execute_reply.started": "2023-01-02T05:43:47.009920Z",
          "shell.execute_reply": "2023-01-02T05:43:47.304136Z"
        },
        "trusted": true,
        "colab": {
          "base_uri": "https://localhost:8080/",
          "height": 282
        },
        "id": "wA-32nhV7H7z",
        "outputId": "2d89e4b4-3673-4f39-d6c9-5898a2b360f4"
      },
      "execution_count": null,
      "outputs": [
        {
          "output_type": "execute_result",
          "data": {
            "text/plain": [
              "<Axes: ylabel='TV'>"
            ]
          },
          "metadata": {},
          "execution_count": 26
        },
        {
          "output_type": "display_data",
          "data": {
            "text/plain": [
              "<Figure size 432x288 with 1 Axes>"
            ],
            "image/png": "[encoded data removed]"
          },
          "metadata": {
            "needs_background": "light"
          }
        }
      ]
    },
    {
      "cell_type": "code",
      "source": [
        "\n",
        "sns.scatterplot(df['TV'])\n",
        "sns.scatterplot(df['Sales'])\n"
      ],
      "metadata": {
        "execution": {
          "iopub.status.busy": "2023-01-02T05:44:47.781354Z",
          "iopub.execute_input": "2023-01-02T05:44:47.781810Z",
          "iopub.status.idle": "2023-01-02T05:44:48.015180Z",
          "shell.execute_reply.started": "2023-01-02T05:44:47.781775Z",
          "shell.execute_reply": "2023-01-02T05:44:48.013618Z"
        },
        "trusted": true,
        "colab": {
          "base_uri": "https://localhost:8080/",
          "height": 282
        },
        "id": "05zOFOP37H7z",
        "outputId": "4d0602a9-51e7-468c-b98f-2f70b8c4b4a8"
      },
      "execution_count": null,
      "outputs": [
        {
          "output_type": "execute_result",
          "data": {
            "text/plain": [
              "<Axes: ylabel='TV'>"
            ]
          },
          "metadata": {},
          "execution_count": 27
        },
        {
          "output_type": "display_data",
          "data": {
            "text/plain": [
              "<Figure size 432x288 with 1 Axes>"
            ],
            "image/png": "[encoded data removed]"
          },
          "metadata": {
            "needs_background": "light"
          }
        }
      ]
    },
    {
      "cell_type": "code",
      "source": [
        "sns.scatterplot(df['Radio'])\n",
        "sns.scatterplot(df['Sales'])"
      ],
      "metadata": {
        "execution": {
          "iopub.status.busy": "2023-01-02T05:45:18.379267Z",
          "iopub.execute_input": "2023-01-02T05:45:18.379910Z",
          "iopub.status.idle": "2023-01-02T05:45:18.621458Z",
          "shell.execute_reply.started": "2023-01-02T05:45:18.379870Z",
          "shell.execute_reply": "2023-01-02T05:45:18.620156Z"
        },
        "trusted": true,
        "id": "4sxTSoyI7H70",
        "outputId": "7ab5bd6a-c245-43c9-fa7b-b54234b177fd",
        "colab": {
          "base_uri": "https://localhost:8080/",
          "height": 282
        }
      },
      "execution_count": null,
      "outputs": [
        {
          "output_type": "execute_result",
          "data": {
            "text/plain": [
              "<Axes: ylabel='Radio'>"
            ]
          },
          "metadata": {},
          "execution_count": 28
        },
        {
          "output_type": "display_data",
          "data": {
            "text/plain": [
              "<Figure size 432x288 with 1 Axes>"
            ],
            "image/png": "[encoded data removed]"
          },
          "metadata": {
            "needs_background": "light"
          }
        }
      ]
    },
    {
      "cell_type": "code",
      "source": [
        "x=df.iloc[:,0:-1]"
      ],
      "metadata": {
        "execution": {
          "iopub.status.busy": "2023-01-02T05:34:47.767178Z",
          "iopub.execute_input": "2023-01-02T05:34:47.767731Z",
          "iopub.status.idle": "2023-01-02T05:34:47.774515Z",
          "shell.execute_reply.started": "2023-01-02T05:34:47.767679Z",
          "shell.execute_reply": "2023-01-02T05:34:47.773236Z"
        },
        "trusted": true,
        "id": "UI2Sox-87H70"
      },
      "execution_count": null,
      "outputs": []
    },
    {
      "cell_type": "code",
      "source": [
        "y=df.iloc[:,-1]"
      ],
      "metadata": {
        "execution": {
          "iopub.status.busy": "2023-01-02T05:35:02.615369Z",
          "iopub.execute_input": "2023-01-02T05:35:02.615916Z",
          "iopub.status.idle": "2023-01-02T05:35:02.623738Z",
          "shell.execute_reply.started": "2023-01-02T05:35:02.615876Z",
          "shell.execute_reply": "2023-01-02T05:35:02.621727Z"
        },
        "trusted": true,
        "id": "_7Z5h0Ii7H70"
      },
      "execution_count": null,
      "outputs": []
    },
    {
      "cell_type": "code",
      "source": [
        "from sklearn.model_selection import train_test_split"
      ],
      "metadata": {
        "execution": {
          "iopub.status.busy": "2023-01-02T05:34:08.924326Z",
          "iopub.execute_input": "2023-01-02T05:34:08.924802Z",
          "iopub.status.idle": "2023-01-02T05:34:09.034931Z",
          "shell.execute_reply.started": "2023-01-02T05:34:08.924766Z",
          "shell.execute_reply": "2023-01-02T05:34:09.033265Z"
        },
        "trusted": true,
        "id": "jgE3tgbB7H71"
      },
      "execution_count": null,
      "outputs": []
    },
    {
      "cell_type": "markdown",
      "source": [
        "# train test split"
      ],
      "metadata": {
        "id": "D2Rutx_E7H71"
      }
    },
    {
      "cell_type": "code",
      "source": [
        "x_train,x_test,y_train,y_test=train_test_split(x,y,test_size=0.2,random_state=42)"
      ],
      "metadata": {
        "execution": {
          "iopub.status.busy": "2023-01-02T05:36:02.906987Z",
          "iopub.execute_input": "2023-01-02T05:36:02.907410Z",
          "iopub.status.idle": "2023-01-02T05:36:02.915596Z",
          "shell.execute_reply.started": "2023-01-02T05:36:02.907377Z",
          "shell.execute_reply": "2023-01-02T05:36:02.914326Z"
        },
        "trusted": true,
        "id": "jLfEwkgB7H71"
      },
      "execution_count": null,
      "outputs": []
    },
    {
      "cell_type": "code",
      "source": [
        "from sklearn.preprocessing import StandardScaler"
      ],
      "metadata": {
        "execution": {
          "iopub.status.busy": "2023-01-02T05:36:20.511350Z",
          "iopub.execute_input": "2023-01-02T05:36:20.511792Z",
          "iopub.status.idle": "2023-01-02T05:36:20.518108Z",
          "shell.execute_reply.started": "2023-01-02T05:36:20.511736Z",
          "shell.execute_reply": "2023-01-02T05:36:20.516842Z"
        },
        "trusted": true,
        "id": "eufo3Qzi7H71"
      },
      "execution_count": null,
      "outputs": []
    },
    {
      "cell_type": "code",
      "source": [
        "Sc=StandardScaler()"
      ],
      "metadata": {
        "execution": {
          "iopub.status.busy": "2023-01-02T05:36:42.129543Z",
          "iopub.execute_input": "2023-01-02T05:36:42.131096Z",
          "iopub.status.idle": "2023-01-02T05:36:42.136494Z",
          "shell.execute_reply.started": "2023-01-02T05:36:42.131052Z",
          "shell.execute_reply": "2023-01-02T05:36:42.135303Z"
        },
        "trusted": true,
        "id": "tRYlEZ0e7H71"
      },
      "execution_count": null,
      "outputs": []
    },
    {
      "cell_type": "markdown",
      "source": [
        "# scaling"
      ],
      "metadata": {
        "id": "xX_8xKbu7H72"
      }
    },
    {
      "cell_type": "code",
      "source": [
        "x_train_scaled=Sc.fit_transform(x_train)"
      ],
      "metadata": {
        "execution": {
          "iopub.status.busy": "2023-01-02T05:37:15.943320Z",
          "iopub.execute_input": "2023-01-02T05:37:15.943793Z",
          "iopub.status.idle": "2023-01-02T05:37:15.953987Z",
          "shell.execute_reply.started": "2023-01-02T05:37:15.943757Z",
          "shell.execute_reply": "2023-01-02T05:37:15.952641Z"
        },
        "trusted": true,
        "id": "fC0DUOMv7H72"
      },
      "execution_count": null,
      "outputs": []
    },
    {
      "cell_type": "code",
      "source": [
        "x_test_scaled=Sc.fit_transform(x_test)"
      ],
      "metadata": {
        "execution": {
          "iopub.status.busy": "2023-01-02T05:37:49.615116Z",
          "iopub.execute_input": "2023-01-02T05:37:49.615518Z",
          "iopub.status.idle": "2023-01-02T05:37:49.625446Z",
          "shell.execute_reply.started": "2023-01-02T05:37:49.615488Z",
          "shell.execute_reply": "2023-01-02T05:37:49.624474Z"
        },
        "trusted": true,
        "id": "eTVpjZKk7H72"
      },
      "execution_count": null,
      "outputs": []
    },
    {
      "cell_type": "code",
      "source": [
        "from sklearn.linear_model import LinearRegression"
      ],
      "metadata": {
        "execution": {
          "iopub.status.busy": "2023-01-02T05:38:08.181864Z",
          "iopub.execute_input": "2023-01-02T05:38:08.182344Z",
          "iopub.status.idle": "2023-01-02T05:38:08.293429Z",
          "shell.execute_reply.started": "2023-01-02T05:38:08.182298Z",
          "shell.execute_reply": "2023-01-02T05:38:08.291732Z"
        },
        "trusted": true,
        "id": "zxB3E39h7H72"
      },
      "execution_count": null,
      "outputs": []
    },
    {
      "cell_type": "code",
      "source": [
        "lr=LinearRegression()"
      ],
      "metadata": {
        "execution": {
          "iopub.status.busy": "2023-01-02T05:38:20.031286Z",
          "iopub.execute_input": "2023-01-02T05:38:20.031675Z",
          "iopub.status.idle": "2023-01-02T05:38:20.037848Z",
          "shell.execute_reply.started": "2023-01-02T05:38:20.031646Z",
          "shell.execute_reply": "2023-01-02T05:38:20.036386Z"
        },
        "trusted": true,
        "id": "kstLouxk7H72"
      },
      "execution_count": null,
      "outputs": []
    },
    {
      "cell_type": "markdown",
      "source": [
        "# model training"
      ],
      "metadata": {
        "id": "MB_1AgU57H72"
      }
    },
    {
      "cell_type": "code",
      "source": [
        "lr.fit(x_train_scaled,y_train)"
      ],
      "metadata": {
        "execution": {
          "iopub.status.busy": "2023-01-02T05:39:01.743306Z",
          "iopub.execute_input": "2023-01-02T05:39:01.743888Z",
          "iopub.status.idle": "2023-01-02T05:39:01.769084Z",
          "shell.execute_reply.started": "2023-01-02T05:39:01.743849Z",
          "shell.execute_reply": "2023-01-02T05:39:01.767251Z"
        },
        "trusted": true,
        "id": "u6JWiFne7H72",
        "outputId": "d5d349ed-2ae1-4521-c96b-1b5047813517",
        "colab": {
          "base_uri": "https://localhost:8080/",
          "height": 74
        }
      },
      "execution_count": null,
      "outputs": [
        {
          "output_type": "execute_result",
          "data": {
            "text/plain": [
              "LinearRegression()"
            ],
            "text/html": [
              "<style>#sk-container-id-1 {color: black;background-color: white;}#sk-container-id-1 pre{padding: 0;}#sk-container-id-1 div.sk-toggleable {background-color: white;}#sk-container-id-1 label.sk-toggleable__label {cursor: pointer;display: block;width: 100%;margin-bottom: 0;padding: 0.3em;box-sizing: border-box;text-align: center;}#sk-container-id-1 label.sk-toggleable__label-arrow:before {content: \"▸\";float: left;margin-right: 0.25em;color: #696969;}#sk-container-id-1 label.sk-toggleable__label-arrow:hover:before {color: black;}#sk-container-id-1 div.sk-estimator:hover label.sk-toggleable__label-arrow:before {color: black;}#sk-container-id-1 div.sk-toggleable__content {max-height: 0;max-width: 0;overflow: hidden;text-align: left;background-color: #f0f8ff;}#sk-container-id-1 div.sk-toggleable__content pre {margin: 0.2em;color: black;border-radius: 0.25em;background-color: #f0f8ff;}#sk-container-id-1 input.sk-toggleable__control:checked~div.sk-toggleable__content {max-height: 200px;max-width: 100%;overflow: auto;}#sk-container-id-1 input.sk-toggleable__control:checked~label.sk-toggleable__label-arrow:before {content: \"▾\";}#sk-container-id-1 div.sk-estimator input.sk-toggleable__control:checked~label.sk-toggleable__label {background-color: #d4ebff;}#sk-container-id-1 div.sk-label input.sk-toggleable__control:checked~label.sk-toggleable__label {background-color: #d4ebff;}#sk-container-id-1 input.sk-hidden--visually {border: 0;clip: rect(1px 1px 1px 1px);clip: rect(1px, 1px, 1px, 1px);height: 1px;margin: -1px;overflow: hidden;padding: 0;position: absolute;width: 1px;}#sk-container-id-1 div.sk-estimator {font-family: monospace;background-color: #f0f8ff;border: 1px dotted black;border-radius: 0.25em;box-sizing: border-box;margin-bottom: 0.5em;}#sk-container-id-1 div.sk-estimator:hover {background-color: #d4ebff;}#sk-container-id-1 div.sk-parallel-item::after {content: \"\";width: 100%;border-bottom: 1px solid gray;flex-grow: 1;}#sk-container-id-1 div.sk-label:hover label.sk-toggleable__label {background-color: #d4ebff;}#sk-container-id-1 div.sk-serial::before {content: \"\";position: absolute;border-left: 1px solid gray;box-sizing: border-box;top: 0;bottom: 0;left: 50%;z-index: 0;}#sk-container-id-1 div.sk-serial {display: flex;flex-direction: column;align-items: center;background-color: white;padding-right: 0.2em;padding-left: 0.2em;position: relative;}#sk-container-id-1 div.sk-item {position: relative;z-index: 1;}#sk-container-id-1 div.sk-parallel {display: flex;align-items: stretch;justify-content: center;background-color: white;position: relative;}#sk-container-id-1 div.sk-item::before, #sk-container-id-1 div.sk-parallel-item::before {content: \"\";position: absolute;border-left: 1px solid gray;box-sizing: border-box;top: 0;bottom: 0;left: 50%;z-index: -1;}#sk-container-id-1 div.sk-parallel-item {display: flex;flex-direction: column;z-index: 1;position: relative;background-color: white;}#sk-container-id-1 div.sk-parallel-item:first-child::after {align-self: flex-end;width: 50%;}#sk-container-id-1 div.sk-parallel-item:last-child::after {align-self: flex-start;width: 50%;}#sk-container-id-1 div.sk-parallel-item:only-child::after {width: 0;}#sk-container-id-1 div.sk-dashed-wrapped {border: 1px dashed gray;margin: 0 0.4em 0.5em 0.4em;box-sizing: border-box;padding-bottom: 0.4em;background-color: white;}#sk-container-id-1 div.sk-label label {font-family: monospace;font-weight: bold;display: inline-block;line-height: 1.2em;}#sk-container-id-1 div.sk-label-container {text-align: center;}#sk-container-id-1 div.sk-container {/* jupyter's `normalize.less` sets `[hidden] { display: none; }` but bootstrap.min.css set `[hidden] { display: none !important; }` so we also need the `!important` here to be able to override the default hidden behavior on the sphinx rendered scikit-learn.org. See: https://github.com/scikit-learn/scikit-learn/issues/21755 */display: inline-block !important;position: relative;}#sk-container-id-1 div.sk-text-repr-fallback {display: none;}</style><div id=\"sk-container-id-1\" class=\"sk-top-container\"><div class=\"sk-text-repr-fallback\"><pre>LinearRegression()</pre><b>In a Jupyter environment, please rerun this cell to show the HTML representation or trust the notebook. <br />On GitHub, the HTML representation is unable to render, please try loading this page with nbviewer.org.</b></div><div class=\"sk-container\" hidden><div class=\"sk-item\"><div class=\"sk-estimator sk-toggleable\"><input class=\"sk-toggleable__control sk-hidden--visually\" id=\"sk-estimator-id-1\" type=\"checkbox\" checked><label for=\"sk-estimator-id-1\" class=\"sk-toggleable__label sk-toggleable__label-arrow\">LinearRegression</label><div class=\"sk-toggleable__content\"><pre>LinearRegression()</pre></div></div></div></div></div>"
            ]
          },
          "metadata": {},
          "execution_count": 36
        }
      ]
    },
    {
      "cell_type": "code",
      "source": [
        "y_pred=lr.predict(x_test_scaled)"
      ],
      "metadata": {
        "execution": {
          "iopub.status.busy": "2023-01-02T05:39:28.567681Z",
          "iopub.execute_input": "2023-01-02T05:39:28.568170Z",
          "iopub.status.idle": "2023-01-02T05:39:28.575755Z",
          "shell.execute_reply.started": "2023-01-02T05:39:28.568135Z",
          "shell.execute_reply": "2023-01-02T05:39:28.574010Z"
        },
        "trusted": true,
        "id": "xju6vkOU7H73"
      },
      "execution_count": null,
      "outputs": []
    },
    {
      "cell_type": "code",
      "source": [
        "from sklearn.metrics import r2_score"
      ],
      "metadata": {
        "execution": {
          "iopub.status.busy": "2023-01-02T05:39:50.655064Z",
          "iopub.execute_input": "2023-01-02T05:39:50.655543Z",
          "iopub.status.idle": "2023-01-02T05:39:50.661998Z",
          "shell.execute_reply.started": "2023-01-02T05:39:50.655510Z",
          "shell.execute_reply": "2023-01-02T05:39:50.660394Z"
        },
        "trusted": true,
        "id": "AVokRzON7H73"
      },
      "execution_count": null,
      "outputs": []
    },
    {
      "cell_type": "code",
      "source": [
        "r2_score(y_test,y_pred)"
      ],
      "metadata": {
        "execution": {
          "iopub.status.busy": "2023-01-02T05:40:16.900971Z",
          "iopub.execute_input": "2023-01-02T05:40:16.901385Z",
          "iopub.status.idle": "2023-01-02T05:40:16.912388Z",
          "shell.execute_reply.started": "2023-01-02T05:40:16.901354Z",
          "shell.execute_reply": "2023-01-02T05:40:16.910133Z"
        },
        "trusted": true,
        "id": "s7Ag_0WU7H73",
        "outputId": "fec2d20a-b1ab-42eb-b4b7-3dc6fb2e85c4",
        "colab": {
          "base_uri": "https://localhost:8080/"
        }
      },
      "execution_count": null,
      "outputs": [
        {
          "output_type": "execute_result",
          "data": {
            "text/plain": [
              "0.8811836354878553"
            ]
          },
          "metadata": {},
          "execution_count": 39
        }
      ]
    },
    {
      "cell_type": "markdown",
      "source": [
        "# got 88.12 % accuracy "
      ],
      "metadata": {
        "id": "R-i3oBAt7H73"
      }
    },
    {
      "cell_type": "markdown",
      "source": [
        "Thank you\n"
      ],
      "metadata": {
        "id": "-GiNizLGMZQC"
      }
    }
  ]
}